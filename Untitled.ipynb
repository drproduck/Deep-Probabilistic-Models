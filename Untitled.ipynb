{
 "cells": [
  {
   "cell_type": "code",
   "execution_count": 46,
   "metadata": {},
   "outputs": [],
   "source": [
    "import itertools\n",
    "import matplotlib as mpl\n",
    "import numpy as np\n",
    "import os\n",
    "import tensorflow as tf\n",
    "import tensorflow.contrib.slim as slim\n",
    "import time\n",
    "import seaborn as sns\n",
    "from matplotlib import pyplot as plt\n",
    "import tensorflow_probability as tfp\n",
    "from tensorflow_probability import distributions as tfd\n",
    "from dataset import Dataset"
   ]
  },
  {
   "cell_type": "code",
   "execution_count": 47,
   "metadata": {},
   "outputs": [],
   "source": [
    "dirichlet = np.random.dirichlet\n",
    "multinomial = np.random.multinomial"
   ]
  },
  {
   "cell_type": "code",
   "execution_count": 65,
   "metadata": {},
   "outputs": [
    {
     "name": "stdout",
     "output_type": "stream",
     "text": [
      "[2.24886794e-10 1.42762891e-29 1.00000000e+00 2.36606920e-18]\n",
      "[0 0 5 0]\n",
      "[1.00000000e+000 2.41371066e-156 2.61286681e-078 2.79299979e-052]\n",
      "[5 0 0 0]\n",
      "[1.32615773e-111 7.18684771e-037 2.47002196e-001 7.52997804e-001]\n",
      "[0 0 1 4]\n",
      "[2.06985923e-12 6.68591555e-29 1.00000000e+00 3.80514562e-15]\n",
      "[0 0 5 0]\n",
      "[1.00000000e+00 1.87814751e-63 2.04038120e-61 8.41866139e-27]\n",
      "[5 0 0 0]\n",
      "[6.30608107e-10 2.27067244e-37 9.74009867e-01 2.59901320e-02]\n",
      "[0 0 5 0]\n",
      "[4.14045691e-109 4.24241766e-004 9.99575755e-001 3.20802055e-009]\n",
      "[0 0 5 0]\n",
      "[8.46698605e-001 1.53301343e-001 7.08047995e-159 5.18991200e-008]\n",
      "[5 0 0 0]\n",
      "[1.00000000e+00 1.15407102e-32 5.98535211e-58 9.66942065e-53]\n",
      "[5 0 0 0]\n",
      "[1.97224895e-85 1.00000000e+00 2.21418716e-16 5.29982680e-93]\n",
      "[0 5 0 0]\n",
      "[20  5 21  4]\n"
     ]
    }
   ],
   "source": [
    "dir_sample = dirichlet([0.01]*4,size=10)\n",
    "sample_count = np.array([0,0,0,0])\n",
    "for p in dir_sample:\n",
    "    print(p)\n",
    "    count = multinomial(5,p)\n",
    "    print(count)\n",
    "    sample_count += count\n",
    "print(sample_count)"
   ]
  }
 ],
 "metadata": {
  "kernelspec": {
   "display_name": "Python 3",
   "language": "python",
   "name": "python3"
  },
  "language_info": {
   "codemirror_mode": {
    "name": "ipython",
    "version": 3
   },
   "file_extension": ".py",
   "mimetype": "text/x-python",
   "name": "python",
   "nbconvert_exporter": "python",
   "pygments_lexer": "ipython3",
   "version": "3.6.6"
  }
 },
 "nbformat": 4,
 "nbformat_minor": 2
}
