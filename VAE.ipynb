{
 "cells": [
  {
   "cell_type": "code",
   "execution_count": 15,
   "metadata": {},
   "outputs": [],
   "source": [
    "import itertools\n",
    "import matplotlib as mpl\n",
    "import numpy as np\n",
    "import os\n",
    "import tensorflow as tf\n",
    "import tensorflow.contrib.slim as slim\n",
    "import time\n",
    "import seaborn as sns\n",
    "from matplotlib import pyplot as plt\n",
    "import tensorflow_probability as tfp\n",
    "from tensorflow_probability import distributions as tfd\n",
    "from dataset import Dataset"
   ]
  },
  {
   "cell_type": "code",
   "execution_count": 2,
   "metadata": {},
   "outputs": [
    {
     "data": {
      "text/plain": [
       "<matplotlib.collections.PathCollection at 0x7ff811664668>"
      ]
     },
     "execution_count": 2,
     "metadata": {},
     "output_type": "execute_result"
    },
    {
     "data": {
      "image/png": "[encoded data removed]",
      "text/plain": [
       "<Figure size 432x288 with 1 Axes>"
      ]
     },
     "metadata": {},
     "output_type": "display_data"
    }
   ],
   "source": [
    "sess = tf.InteractiveSession()\n",
    "normal = tfd.MultivariateNormalDiag(loc=[0.0, 0.0], scale_diag=[1.0, 1.0])\n",
    "s1 = [1,1] + sess.run(normal.sample(200))\n",
    "s2 = [10, 10] + sess.run(normal.sample(200))\n",
    "s3 = [20, 1] + sess.run(normal.sample(200))\n",
    "s4 = [10, 3] + sess.run(normal.sample(200))\n",
    "samples = np.concatenate((s1,s2,s3,s4))\n",
    "gnd = np.concatenate((np.zeros(200), np.zeros(200)+1,np.zeros(200)+2,np.zeros(200)+3))\n",
    "plt.scatter(samples[:,0], samples[:,1], s=1)"
   ]
  },
  {
   "cell_type": "code",
   "execution_count": 4,
   "metadata": {},
   "outputs": [],
   "source": [
    "def inference_network(x, latent_dim, hidden_size):\n",
    "    \"\"\"Construct an inference network parametrizing a Gaussian.\n",
    "    Args:\n",
    "    x: A batch of MNIST digits.\n",
    "    latent_dim: The latent dimensionality.\n",
    "    hidden_size: The size of the neural net hidden layers.\n",
    "    Returns:\n",
    "    mu: Mean parameters for the variational family Normal\n",
    "    sigma: Standard deviation parameters for the variational family Normal\n",
    "    \"\"\"\n",
    "    with slim.arg_scope([slim.fully_connected], activation_fn=tf.nn.relu):\n",
    "        net = slim.fully_connected(x, hidden_size)\n",
    "        net = slim.fully_connected(net, hidden_size)\n",
    "        gaussian_params = slim.fully_connected(\n",
    "            net, latent_dim * 2, activation_fn=None)\n",
    "    # The mean parameter is unconstrained\n",
    "    mu = gaussian_params[:, :latent_dim]\n",
    "    # The standard deviation must be positive. Parametrize with a softplus\n",
    "    sigma = tf.nn.softplus(gaussian_params[:, latent_dim:])\n",
    "    return mu, sigma\n",
    "\n",
    "\n",
    "def generative_network(z, x_dim, hidden_size):\n",
    "    \"\"\"Build a generative network parametrizing the likelihood of the data\n",
    "    Args:\n",
    "    z: Samples of latent variables\n",
    "    hidden_size: Size of the hidden state of the neural net\n",
    "    Returns:\n",
    "    bernoulli_logits: logits for the Bernoulli likelihood of the data\n",
    "    \"\"\"\n",
    "    with slim.arg_scope([slim.fully_connected], activation_fn=tf.nn.relu):\n",
    "        net = slim.fully_connected(z, hidden_size)\n",
    "        net = slim.fully_connected(net, hidden_size)\n",
    "        gaussian_params = slim.fully_connected(net, x_dim * 2, activation_fn=None)\n",
    "        mu = gaussian_params[:, :x_dim]\n",
    "        sigma = tf.nn.softplus(gaussian_params[:, x_dim:])\n",
    "    \n",
    "    return mu, sigma"
   ]
  },
  {
   "cell_type": "code",
   "execution_count": 5,
   "metadata": {},
   "outputs": [],
   "source": [
    "latent_dim = 1 #Latent dimensionality of model\n",
    "x_dim = 2 # dimension of data point\n",
    "batch_size = 64 #Minibatch size\n",
    "n_samples = 10 #Number of samples to save\n",
    "print_every = 10 #Print every n iterations\n",
    "hidden_size = 200 #Hidden size for neural networks\n",
    "n_iterations = 1000 #number of iterations"
   ]
  },
  {
   "cell_type": "code",
   "execution_count": 6,
   "metadata": {},
   "outputs": [],
   "source": [
    "# Input placeholders\n",
    "with tf.name_scope('data'):\n",
    "    x = tf.placeholder(tf.float32, [None, x_dim])\n",
    "\n",
    "with tf.variable_scope('variational'):\n",
    "    q_mu, q_sigma = inference_network(x=x,\n",
    "                                      latent_dim=latent_dim,\n",
    "                                      hidden_size=hidden_size)\n",
    "    # The variational distribution is a Normal with mean and standard\n",
    "    # deviation given by the inference network\n",
    "    q_z = tfd.MultivariateNormalDiag(loc=q_mu, scale_diag=q_sigma)\n",
    "    assert q_z.reparameterization_type == tfd.FULLY_REPARAMETERIZED\n",
    "\n",
    "with tf.variable_scope('model'):\n",
    "    # The likelihood is Bernoulli-distributed with logits given by the\n",
    "    # generative network\n",
    "    p_x_given_z_mu, p_x_given_z_sigma = generative_network(z=q_z.sample(), x_dim=x_dim,\n",
    "                                            hidden_size=hidden_size)\n",
    "    p_x_given_z = tfd.MultivariateNormalDiag(loc=p_x_given_z_mu, scale_diag=p_x_given_z_sigma)\n",
    "    posterior_predictive_samples = p_x_given_z.sample()\n",
    "    \n",
    "#     Take samples from the prior\n",
    "with tf.variable_scope('model', reuse=True):\n",
    "    p_z = tfd.MultivariateNormalDiag(loc=np.zeros(latent_dim, dtype=np.float32),\n",
    "                               scale_diag=np.ones(latent_dim, dtype=np.float32))\n",
    "\n",
    "# Build the evidence lower bound (ELBO) or the negative loss\n",
    "kl = tf.reduce_sum(tfd.kl_divergence(q_z, p_z))\n",
    "expected_log_likelihood = tf.reduce_sum(p_x_given_z.log_prob(x))\n",
    "\n",
    "elbo = tf.reduce_sum(expected_log_likelihood - kl)\n",
    "\n",
    "optimizer = tf.train.AdamOptimizer(learning_rate=0.001)\n",
    "\n",
    "train_op = optimizer.minimize(-elbo)\n",
    "\n",
    "\n"
   ]
  },
  {
   "cell_type": "code",
   "execution_count": 16,
   "metadata": {},
   "outputs": [
    {
     "name": "stderr",
     "output_type": "stream",
     "text": [
      "/home/drproduck/miniconda3/envs/deep_prob/lib/python3.6/site-packages/tensorflow/python/client/session.py:1645: UserWarning: An interactive session is already active. This can cause out-of-memory errors in some cases. You must explicitly call `InteractiveSession.close()` to release resources held by the other session(s).\n",
      "  warnings.warn('An interactive session is already active. This can '\n"
     ]
    },
    {
     "name": "stdout",
     "output_type": "stream",
     "text": [
      "Iteration: 0 ELBO: -170.268 s/iter: 9.986e-02\n",
      "Iteration: 10 ELBO: -35.332 s/iter: 1.104e-01\n",
      "Iteration: 20 ELBO: -21.730 s/iter: 1.197e-01\n",
      "Iteration: 30 ELBO: -14.669 s/iter: 1.306e-01\n",
      "Iteration: 40 ELBO: -11.256 s/iter: 1.396e-01\n",
      "Iteration: 50 ELBO: -10.259 s/iter: 1.483e-01\n",
      "Iteration: 60 ELBO: -9.289 s/iter: 1.653e-01\n",
      "Iteration: 70 ELBO: -8.622 s/iter: 1.826e-01\n",
      "Iteration: 80 ELBO: -8.279 s/iter: 1.937e-01\n",
      "Iteration: 90 ELBO: -8.304 s/iter: 2.019e-01\n",
      "Iteration: 100 ELBO: -7.713 s/iter: 2.090e-01\n",
      "Iteration: 110 ELBO: -7.429 s/iter: 2.186e-01\n",
      "Iteration: 120 ELBO: -7.491 s/iter: 2.277e-01\n",
      "Iteration: 130 ELBO: -7.090 s/iter: 2.350e-01\n",
      "Iteration: 140 ELBO: -6.982 s/iter: 2.437e-01\n",
      "Iteration: 150 ELBO: -6.965 s/iter: 2.519e-01\n",
      "Iteration: 160 ELBO: -6.654 s/iter: 2.607e-01\n",
      "Iteration: 170 ELBO: -6.701 s/iter: 2.718e-01\n",
      "Iteration: 180 ELBO: -6.538 s/iter: 2.805e-01\n",
      "Iteration: 190 ELBO: -6.668 s/iter: 2.903e-01\n",
      "Iteration: 200 ELBO: -6.441 s/iter: 3.012e-01\n",
      "Iteration: 210 ELBO: -6.426 s/iter: 3.091e-01\n",
      "Iteration: 220 ELBO: -6.440 s/iter: 3.175e-01\n",
      "Iteration: 230 ELBO: -6.431 s/iter: 3.282e-01\n",
      "Iteration: 240 ELBO: -6.313 s/iter: 3.373e-01\n",
      "Iteration: 250 ELBO: -7.402 s/iter: 3.447e-01\n",
      "Iteration: 260 ELBO: -6.133 s/iter: 3.552e-01\n",
      "Iteration: 270 ELBO: -6.385 s/iter: 3.634e-01\n",
      "Iteration: 280 ELBO: -6.260 s/iter: 3.721e-01\n",
      "Iteration: 290 ELBO: -6.429 s/iter: 3.846e-01\n",
      "Iteration: 300 ELBO: -6.293 s/iter: 4.061e-01\n",
      "Iteration: 310 ELBO: -6.335 s/iter: 4.194e-01\n",
      "Iteration: 320 ELBO: -6.088 s/iter: 4.395e-01\n",
      "Iteration: 330 ELBO: -6.288 s/iter: 4.488e-01\n",
      "Iteration: 340 ELBO: -6.076 s/iter: 4.578e-01\n",
      "Iteration: 350 ELBO: -6.078 s/iter: 4.684e-01\n",
      "Iteration: 360 ELBO: -6.235 s/iter: 4.880e-01\n",
      "Iteration: 370 ELBO: -6.221 s/iter: 4.986e-01\n",
      "Iteration: 380 ELBO: -6.271 s/iter: 5.080e-01\n",
      "Iteration: 390 ELBO: -6.246 s/iter: 5.181e-01\n",
      "Iteration: 400 ELBO: -6.486 s/iter: 5.284e-01\n",
      "Iteration: 410 ELBO: -6.083 s/iter: 5.386e-01\n",
      "Iteration: 420 ELBO: -6.038 s/iter: 5.528e-01\n",
      "Iteration: 430 ELBO: -6.151 s/iter: 5.659e-01\n",
      "Iteration: 440 ELBO: -6.201 s/iter: 5.817e-01\n",
      "Iteration: 450 ELBO: -6.107 s/iter: 5.931e-01\n",
      "Iteration: 460 ELBO: -6.050 s/iter: 6.010e-01\n",
      "Iteration: 470 ELBO: -6.059 s/iter: 6.104e-01\n",
      "Iteration: 480 ELBO: -6.150 s/iter: 6.183e-01\n",
      "Iteration: 490 ELBO: -5.894 s/iter: 6.265e-01\n",
      "Iteration: 500 ELBO: -6.105 s/iter: 6.356e-01\n",
      "Iteration: 510 ELBO: -6.079 s/iter: 6.433e-01\n",
      "Iteration: 520 ELBO: -6.169 s/iter: 6.518e-01\n",
      "Iteration: 530 ELBO: -5.970 s/iter: 6.597e-01\n",
      "Iteration: 540 ELBO: -5.980 s/iter: 6.668e-01\n",
      "Iteration: 550 ELBO: -6.032 s/iter: 6.808e-01\n",
      "Iteration: 560 ELBO: -5.953 s/iter: 6.949e-01\n",
      "Iteration: 570 ELBO: -6.127 s/iter: 7.141e-01\n",
      "Iteration: 580 ELBO: -5.977 s/iter: 7.250e-01\n",
      "Iteration: 590 ELBO: -6.167 s/iter: 7.349e-01\n",
      "Iteration: 600 ELBO: -5.960 s/iter: 7.440e-01\n",
      "Iteration: 610 ELBO: -6.051 s/iter: 7.517e-01\n",
      "Iteration: 620 ELBO: -5.984 s/iter: 7.658e-01\n",
      "Iteration: 630 ELBO: -5.962 s/iter: 7.777e-01\n",
      "Iteration: 640 ELBO: -5.919 s/iter: 7.925e-01\n",
      "Iteration: 650 ELBO: -6.003 s/iter: 8.052e-01\n",
      "Iteration: 660 ELBO: -6.124 s/iter: 8.198e-01\n",
      "Iteration: 670 ELBO: -6.168 s/iter: 8.331e-01\n",
      "Iteration: 680 ELBO: -5.966 s/iter: 8.469e-01\n",
      "Iteration: 690 ELBO: -5.922 s/iter: 8.609e-01\n",
      "Iteration: 700 ELBO: -5.983 s/iter: 8.773e-01\n",
      "Iteration: 710 ELBO: -6.019 s/iter: 8.912e-01\n",
      "Iteration: 720 ELBO: -5.995 s/iter: 9.060e-01\n",
      "Iteration: 730 ELBO: -5.908 s/iter: 9.203e-01\n",
      "Iteration: 740 ELBO: -6.092 s/iter: 9.387e-01\n",
      "Iteration: 750 ELBO: -6.002 s/iter: 9.471e-01\n",
      "Iteration: 760 ELBO: -5.864 s/iter: 9.553e-01\n",
      "Iteration: 770 ELBO: -5.986 s/iter: 9.654e-01\n",
      "Iteration: 780 ELBO: -5.951 s/iter: 9.787e-01\n",
      "Iteration: 790 ELBO: -6.074 s/iter: 9.940e-01\n",
      "Iteration: 800 ELBO: -5.868 s/iter: 1.011e+00\n",
      "Iteration: 810 ELBO: -5.835 s/iter: 1.022e+00\n",
      "Iteration: 820 ELBO: -5.948 s/iter: 1.036e+00\n",
      "Iteration: 830 ELBO: -5.935 s/iter: 1.050e+00\n",
      "Iteration: 840 ELBO: -5.909 s/iter: 1.067e+00\n",
      "Iteration: 850 ELBO: -5.886 s/iter: 1.076e+00\n",
      "Iteration: 860 ELBO: -5.802 s/iter: 1.084e+00\n",
      "Iteration: 870 ELBO: -5.800 s/iter: 1.096e+00\n",
      "Iteration: 880 ELBO: -5.966 s/iter: 1.110e+00\n",
      "Iteration: 890 ELBO: -5.751 s/iter: 1.130e+00\n",
      "Iteration: 900 ELBO: -5.871 s/iter: 1.141e+00\n",
      "Iteration: 910 ELBO: -5.892 s/iter: 1.153e+00\n",
      "Iteration: 920 ELBO: -6.086 s/iter: 1.171e+00\n",
      "Iteration: 930 ELBO: -6.007 s/iter: 1.185e+00\n",
      "Iteration: 940 ELBO: -5.685 s/iter: 1.207e+00\n",
      "Iteration: 950 ELBO: -5.854 s/iter: 1.221e+00\n",
      "Iteration: 960 ELBO: -5.883 s/iter: 1.240e+00\n",
      "Iteration: 970 ELBO: -5.876 s/iter: 1.258e+00\n",
      "Iteration: 980 ELBO: -5.782 s/iter: 1.272e+00\n",
      "Iteration: 990 ELBO: -5.848 s/iter: 1.297e+00\n"
     ]
    }
   ],
   "source": [
    "# Run training\n",
    "perm = np.random.permutation(np.arange(samples.shape[0]))\n",
    "samples = samples[perm]\n",
    "gnd = gnd[perm]\n",
    "data = Dataset(samples, ratio=0.8)\n",
    "sess = tf.InteractiveSession()\n",
    "sess.run(tf.global_variables_initializer())\n",
    "t0 = time.time()\n",
    "elbos = []\n",
    "vals = []\n",
    "for i in range(n_iterations):\n",
    "    # Re-binarize the data at every batch; this improves results\n",
    "    x_trn = data.next_batch(batch_size=batch_size, roll_over=True)\n",
    "    sess.run(train_op, {x: x_trn})\n",
    "\n",
    "    # Print progress and save samples every so often\n",
    "    if i % print_every == 0:\n",
    "        np_elbo = sess.run(elbo, {x: x_trn})\n",
    "        elbos += [-np_elbo]\n",
    "        val_loss = sess.run(elbo, {x: data.validation_batch()})\n",
    "        vals += [-val_loss]\n",
    "        print('Iteration: {0:d} ELBO: {1:.3f} s/iter: {2:.3e}'.format(i,np_elbo / batch_size,(time.time() - t0) / print_every))\n",
    "\n"
   ]
  },
  {
   "cell_type": "code",
   "execution_count": 17,
   "metadata": {},
   "outputs": [
    {
     "data": {
      "text/plain": [
       "[<matplotlib.lines.Line2D at 0x7ff7f48d8ef0>]"
      ]
     },
     "execution_count": 17,
     "metadata": {},
     "output_type": "execute_result"
    },
    {
     "data": {
      "image/png": "[encoded data removed]",
      "text/plain": [
       "<Figure size 432x288 with 1 Axes>"
      ]
     },
     "metadata": {},
     "output_type": "display_data"
    }
   ],
   "source": [
    "plt.plot(elbos)"
   ]
  },
  {
   "cell_type": "code",
   "execution_count": 18,
   "metadata": {},
   "outputs": [
    {
     "data": {
      "text/plain": [
       "[<matplotlib.lines.Line2D at 0x7ff7f48b6208>]"
      ]
     },
     "execution_count": 18,
     "metadata": {},
     "output_type": "execute_result"
    },
    {
     "data": {
      "image/png": "[encoded data removed]",
      "text/plain": [
       "<Figure size 432x288 with 1 Axes>"
      ]
     },
     "metadata": {},
     "output_type": "display_data"
    }
   ],
   "source": [
    "plt.plot(vals)"
   ]
  },
  {
   "cell_type": "code",
   "execution_count": 19,
   "metadata": {},
   "outputs": [
    {
     "name": "stdout",
     "output_type": "stream",
     "text": [
      "(160, 1)\n",
      "(160,)\n"
     ]
    },
    {
     "data": {
      "text/plain": [
       "<matplotlib.collections.PathCollection at 0x7ff7f4809e10>"
      ]
     },
     "execution_count": 19,
     "metadata": {},
     "output_type": "execute_result"
    },
    {
     "data": {
      "image/png": "[encoded data removed]",
      "text/plain": [
       "<Figure size 432x288 with 1 Axes>"
      ]
     },
     "metadata": {},
     "output_type": "display_data"
    }
   ],
   "source": [
    "embedding = sess.run(q_mu, {x:data.x_val})\n",
    "print(embedding.shape)\n",
    "print(gnd[data.thres:].shape)\n",
    "plt.scatter(embedding, np.zeros(160), c=gnd[data.thres:],s=1)"
   ]
  }
 ],
 "metadata": {
  "kernelspec": {
   "display_name": "Python 3",
   "language": "python",
   "name": "python3"
  },
  "language_info": {
   "codemirror_mode": {
    "name": "ipython",
    "version": 3
   },
   "file_extension": ".py",
   "mimetype": "text/x-python",
   "name": "python",
   "nbconvert_exporter": "python",
   "pygments_lexer": "ipython3",
   "version": "3.6.5"
  }
 },
 "nbformat": 4,
 "nbformat_minor": 2
}
